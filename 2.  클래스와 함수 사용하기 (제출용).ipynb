{
 "cells": [
  {
   "cell_type": "code",
   "execution_count": null,
   "id": "46c04163-ebe5-4c0d-82e7-1bfb04bae8ab",
   "metadata": {},
   "outputs": [],
   "source": [
    "2.  클래스와 함수 사용하기 (필수)\n",
    "💡\n",
    "이 과제는 간단한 Python Class 활용 문제입니다. \n",
    "처음 공부하시는 분들은 개념이나 활용 방법이 헷갈리실 수도 있으므로, 앞서 공부한 내용 복습 및 추가 학습을 하면서 진행해주세요. 🙉​\n",
    "과제 내용\n",
    "이름, 성별, 나이를 입력받고, 이를 출력하는 프로그램을 작성해주세요."
   ]
  },
  {
   "cell_type": "code",
   "execution_count": null,
   "id": "a0ffbb6f-e84d-436e-8743-407582a3c091",
   "metadata": {},
   "outputs": [],
   "source": [
    "처리 조건\n",
    "클래스 정의\n",
    "Person이라는 이름의 클래스를 정의한다.\n",
    "    \n",
    "멤버 변수\n",
    "name, gender, age라는 멤버 변수를 설정한다.\n",
    "각 변수는 객체가 생성될 때 초기화된다.\n",
    "name: 이름을 저장하는 변수 (문자열)\n",
    "gender: 성별을 저장하는 변수 (문자열, \"male\" 또는 \"female\")\n",
    "age: 나이를 저장하는 변수 (정수형)\n",
    "\n",
    "생성자\n",
    "생성자 __init__를 통해 객체 생성 시 이름, 성별, 나이를 초기화한다.\n",
    "매개변수로 이름(name), 성별(gender), 나이(age)를 받는다.\n",
    "    \n",
    "정보를 출력하는 함수 display()\n",
    "name, gender, age 값을 출력하는 기능을 구현한다.\n",
    "이름과 성별은 같은 행에 출력하고, 나이는 다음 행에 출력한다.\n",
    "    \n",
    "입력 및 출력\n",
    "사용자로부터 나이, 이름, 성별을 각각 입력받는다.\n",
    "입력된 값을 바탕으로 Person 객체를 생성하고, display() 함수를 통해 객체의 정보를 출력한다."
   ]
  },
  {
   "cell_type": "code",
   "execution_count": null,
   "id": "eb660058-f16e-446d-8259-cdb2cce466af",
   "metadata": {},
   "outputs": [],
   "source": [
    "예시 입출력\n",
    "사용자 입력 예시\n",
    "나이: 28\n",
    "이름: 페이커\n",
    "성별: male"
   ]
  },
  {
   "cell_type": "code",
   "execution_count": null,
   "id": "ca1d0653-e307-4baf-80b8-e4b4ecedd0d5",
   "metadata": {},
   "outputs": [],
   "source": [
    "출력 예시\n",
    "이름: 페이커, 성별: male\n",
    "나이: 28"
   ]
  },
  {
   "cell_type": "code",
   "execution_count": null,
   "id": "af224719-8d86-448c-95fa-d42afda71975",
   "metadata": {},
   "outputs": [],
   "source": [
    "### 2. 클래스와 함수 사용하기 (선택)\n",
    "\n",
    "### **추가 도전 과제**\n",
    "\n",
    "1. `Person` 클래스 생성자에서 사용자의 성별 입력값에 대한 유효성 검사를 추가해주세요.\n",
    "- **참고**\n",
    "    - `gender` 값이 `male` 또는 `female`로만 입력될 수 있도록 제한하는 로직을 넣으면 됩니다.\n",
    "    - 잘못된 입력이 들어오면 오류 메시지를 출력하고, 올바른 성별을 입력받을 때까지 반복해서 입력을 받도록 구현할 수 있습니다.\n",
    "    \n",
    "    ```python\n",
    "    나이: 28\n",
    "    이름: 페이커\n",
    "    성별: 남성\n",
    "    잘못된 성별을 입력하셨습니다. 'male' 또는 'female'을 입력하세요.\n",
    "    성별: \n",
    "    ```\n",
    "    \n",
    "1. `Person` 클래스에 나잇대에 맞는 인사 메시지를 출력할 수 있도록 `greet()` 함수를 추가해주세요\n",
    "- **참고**\n",
    "    - **`greet() 함수`**는 `age` 값에 따라 다음과 같은 메시지를 출력합니다."
   ]
  },
  {
   "cell_type": "code",
   "execution_count": 5,
   "id": "00eb8f82-e09d-4f76-83d3-91211583b0f6",
   "metadata": {},
   "outputs": [],
   "source": [
    "class Person:\n",
    "    def __init__(self,name,gender,age):\n",
    "        self.name = name\n",
    "        self.gender = gender\n",
    "        self.age = age\n",
    "    \n",
    "    def display(self):\n",
    "        print(f'이름 : {self.name}    성별 : {self.gender}')\n",
    "        print(f'나이 : {self.age}')\n",
    "\n",
    "    def greet(self):\n",
    "        if age < 20:\n",
    "            print(f'안녕하세요! {self.name}! 미성년자시군요! 좋은 시간 보내시길 바랍니다!')\n",
    "        elif age >= 20:\n",
    "            print(f'안녕하세요! {self.name}! 성인이시군요! 좋은 시간 보내시길 바랍니다!')\n",
    "    "
   ]
  },
  {
   "cell_type": "code",
   "execution_count": 13,
   "id": "d87f89a6-5f8f-4c7e-a3d6-11a6334b0c9b",
   "metadata": {},
   "outputs": [
    {
     "name": "stdin",
     "output_type": "stream",
     "text": [
      "이름을 입력해주세요! kang\n",
      "나이를 입력해주세요!(숫자로 입력) 20\n",
      "성별을 입력해주세요 dd\n"
     ]
    },
    {
     "name": "stdout",
     "output_type": "stream",
     "text": [
      "'male' 또는 'female'을 입력해주세요!'\n"
     ]
    },
    {
     "name": "stdin",
     "output_type": "stream",
     "text": [
      "성별을 입력해주세요 11\n"
     ]
    },
    {
     "name": "stdout",
     "output_type": "stream",
     "text": [
      "'male' 또는 'female'을 입력해주세요!'\n"
     ]
    },
    {
     "name": "stdin",
     "output_type": "stream",
     "text": [
      "성별을 입력해주세요 male\n"
     ]
    },
    {
     "name": "stdout",
     "output_type": "stream",
     "text": [
      "----------------------------------------------------------------------------------------------------\n",
      "이름 : kang    성별 : male\n",
      "나이 : 20\n",
      "안녕하세요! kang! 성인이시군요! 좋은 시간 보내시길 바랍니다!\n",
      "----------------------------------------------------------------------------------------------------\n"
     ]
    }
   ],
   "source": [
    "name = input('이름을 입력해주세요!')\n",
    "\n",
    "while True:\n",
    "    try:\n",
    "        age = int(input('나이를 입력해주세요!(숫자로 입력)'))\n",
    "        break\n",
    "    except ValueError:\n",
    "        print('숫자를 입력해주세요!')\n",
    "\n",
    "while True:\n",
    "    gender = input('성별을 입력해주세요').lower()\n",
    "    if gender in ['male','female']:\n",
    "        break\n",
    "    else:\n",
    "        print(\"'male' 또는 'female'을 입력해주세요!'\")\n",
    "\n",
    "Human = Person(name,gender,age)\n",
    "\n",
    "print('-'*100)\n",
    "\n",
    "Human.display()\n",
    "Human.greet()\n",
    "\n",
    "print('-'*100)"
   ]
  },
  {
   "cell_type": "code",
   "execution_count": null,
   "id": "4031ff83-382d-496c-af03-e2223715a334",
   "metadata": {},
   "outputs": [],
   "source": []
  },
  {
   "cell_type": "code",
   "execution_count": null,
   "id": "aefceab3-9605-43f3-b609-81effce7ea51",
   "metadata": {},
   "outputs": [],
   "source": []
  },
  {
   "cell_type": "code",
   "execution_count": null,
   "id": "f899adbc-c36e-4fda-87dc-29cd4888eb82",
   "metadata": {},
   "outputs": [],
   "source": []
  },
  {
   "cell_type": "code",
   "execution_count": null,
   "id": "11719442-6249-4c9d-9f33-4f1aaeb4d4b1",
   "metadata": {},
   "outputs": [],
   "source": []
  },
  {
   "cell_type": "code",
   "execution_count": null,
   "id": "9d75c9ee-c605-4041-936c-98ec75528819",
   "metadata": {},
   "outputs": [],
   "source": []
  },
  {
   "cell_type": "code",
   "execution_count": null,
   "id": "d77900e5-6674-40b6-8318-d0b4d2e291b7",
   "metadata": {},
   "outputs": [],
   "source": []
  }
 ],
 "metadata": {
  "kernelspec": {
   "display_name": "Python 3 (ipykernel)",
   "language": "python",
   "name": "python3"
  },
  "language_info": {
   "codemirror_mode": {
    "name": "ipython",
    "version": 3
   },
   "file_extension": ".py",
   "mimetype": "text/x-python",
   "name": "python",
   "nbconvert_exporter": "python",
   "pygments_lexer": "ipython3",
   "version": "3.12.4"
  }
 },
 "nbformat": 4,
 "nbformat_minor": 5
}
