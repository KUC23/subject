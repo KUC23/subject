{
 "cells": [
  {
   "cell_type": "code",
   "execution_count": null,
   "id": "8b1f47a4-53be-4f34-944e-40f593c549d4",
   "metadata": {},
   "outputs": [],
   "source": [
    "이 과제에서는 파이썬 프로그래밍 언어를 활용하여 숫자 맞추기 게임을 만드는 것이 목표입니다. \n",
    "숫자 맞추기 게임은 컴퓨터가 생각한 숫자를 맞추는 게임으로, \n",
    "플레이어는 숫자를 입력하고 컴퓨터가 생각한 숫자와 비교하여 \n",
    "“작다\" 혹은 \"크다\" 힌트를 받아가며 숫자를 맞추는 게임입니다."
   ]
  },
  {
   "cell_type": "code",
   "execution_count": null,
   "id": "3c354213-9bc9-42e7-a5ea-63886330166e",
   "metadata": {},
   "outputs": [],
   "source": [
    "### **과제  내용**\n",
    "\n",
    "1. 플레이어와 컴퓨터가 참여하는 숫자 맞추기 게임을 만드세요. \n",
    "2. 프로그램은 다음과 같은 기능을 포함해야 합니다.\n",
    "- 컴퓨터는 1부터 10 사이의 랜덤한 숫자를 생성합니다.\n",
    "- 플레이어는 숫자를 입력하고, 입력한 숫자가 큰지 작은지 힌트를 얻습니다.\n",
    "- 플레이어가 숫자를 맞힐 때까지 위 과정을 반복합니다."
   ]
  },
  {
   "cell_type": "code",
   "execution_count": null,
   "id": "1c0bf612-ef0a-4841-8e9e-46f377beb4d5",
   "metadata": {},
   "outputs": [],
   "source": [
    "입출력 예시\n",
    "→ 예시일 뿐 완전히 똑같이는 하지 않으셔도 돼요! 주어진 조건만 다 맞추시면 됩니다!\n",
    "1과 10 사이의 숫자를 하나 정했습니다.\n",
    "이 숫자는 무엇일까요?\n",
    "예상 숫자: 5\n",
    "너무 큽니다. 다시 입력하세요.\n",
    "예상 숫자: 4\n",
    "너무 큽니다. 다시 입력하세요.\n",
    "예상 숫자: 3\n",
    "정답입니다!"
   ]
  },
  {
   "cell_type": "code",
   "execution_count": null,
   "id": "49e680d2-7ba5-45e1-ac32-d810b896f6c0",
   "metadata": {},
   "outputs": [],
   "source": [
    "### **추가 도전 과제**\n",
    "\n",
    "1. 플레이어가 입력한 숫자가 범위를 벗어날 경우, 적절한 안내 메시지를 출력하여 유효한 범위 내의 숫자를 입력하도록 유도하세요.\n",
    "2. 플레이어가 게임을 반복하고 싶을 경우, 게임 재시작 여부를 묻고 그에 따라 게임을 초기화하거나 종료하는 기능을 추가하세요."
   ]
  },
  {
   "cell_type": "code",
   "execution_count": 12,
   "id": "57562dd4-a458-4f89-940c-9a8a7c1e72af",
   "metadata": {},
   "outputs": [
    {
     "name": "stdout",
     "output_type": "stream",
     "text": [
      "안녕하세요\n",
      "이 게임은 \"숫자맞추기 게임\"으로\n",
      "플레이어는 임의로 정해지는 1~10까지의 숫자를 추측하여 맞추는 게임입니다.\n",
      "대답한 답이 정답이 아니라면, 정답에 대한 작은 힌트가 주어집니다.\n",
      "참고하여 플레이해주시길 바랍니다.\n",
      "그럼 게임을 시작합니다\n",
      "------------------------------------------------------------------------------------------------------------------------------------------------------\n",
      "숫자가 지정되었습니다.\n",
      "이 숫자는 무엇일까요?\n"
     ]
    },
    {
     "name": "stdin",
     "output_type": "stream",
     "text": [
      "답을 적어주세요! 10\n"
     ]
    },
    {
     "name": "stdout",
     "output_type": "stream",
     "text": [
      "너무 큽니다\n"
     ]
    },
    {
     "name": "stdin",
     "output_type": "stream",
     "text": [
      "답을 적어주세요! 5\n"
     ]
    },
    {
     "name": "stdout",
     "output_type": "stream",
     "text": [
      "너무 작습니다\n"
     ]
    },
    {
     "name": "stdin",
     "output_type": "stream",
     "text": [
      "답을 적어주세요! 7\n"
     ]
    },
    {
     "name": "stdout",
     "output_type": "stream",
     "text": [
      "너무 작습니다\n"
     ]
    },
    {
     "name": "stdin",
     "output_type": "stream",
     "text": [
      "답을 적어주세요! 8\n"
     ]
    },
    {
     "name": "stdout",
     "output_type": "stream",
     "text": [
      "정답입니다!\n",
      "게임을 계속하시겠어요?\n"
     ]
    },
    {
     "name": "stdin",
     "output_type": "stream",
     "text": [
      "y/n n\n"
     ]
    },
    {
     "name": "stdout",
     "output_type": "stream",
     "text": [
      "게임을 종료하겠습니다 감사합니다!\n"
     ]
    }
   ],
   "source": [
    "from random import randint\n",
    "import time\n",
    "\n",
    "print('안녕하세요')\n",
    "time.sleep(0.8)\n",
    "print('이 게임은 \"숫자맞추기 게임\"으로')\n",
    "time.sleep(0.8)\n",
    "print('플레이어는 임의로 정해지는 1~10까지의 숫자를 추측하여 맞추는 게임입니다.')\n",
    "time.sleep(1)\n",
    "print('대답한 답이 정답이 아니라면, 정답에 대한 작은 힌트가 주어집니다.')\n",
    "time.sleep(1)\n",
    "print('참고하여 플레이해주시길 바랍니다.')\n",
    "time.sleep(1)\n",
    "print('그럼 게임을 시작합니다')\n",
    "\n",
    "keep_playing = True \n",
    "\n",
    "while keep_playing:\n",
    "    print('-'*150)\n",
    "    answer = randint(1,10) \n",
    "    time.sleep(2)\n",
    "    print('숫자가 지정되었습니다.')\n",
    "    time.sleep(1)\n",
    "    print('이 숫자는 무엇일까요?')\n",
    "\n",
    "    \n",
    "    while True:\n",
    "        try:\n",
    "            ans_0 = int(input('답을 적어주세요!'))\n",
    "            if ans_0 == answer: \n",
    "                print('정답입니다!')\n",
    "                break\n",
    "            elif ans_0 > answer:\n",
    "                print('너무 큽니다')       \n",
    "            elif ans_0 < answer:\n",
    "                print('너무 작습니다')\n",
    "        except ValueError:\n",
    "            print('숫자를 입력해주세요!')\n",
    "    print('게임을 계속하시겠어요?')\n",
    "    while keep_playing:\n",
    "        fin = input('y/n')\n",
    "        if fin == 'n':\n",
    "            print('게임을 종료하겠습니다 감사합니다!')\n",
    "            keep_playing = False\n",
    "        elif fin == 'y':\n",
    "            print('게임을 재시작합니다!')\n",
    "            break\n",
    "        else:\n",
    "            print('잘못된 입력입니다. y 혹은 n 을 작성해주시길 바랍니다.')"
   ]
  },
  {
   "cell_type": "code",
   "execution_count": 1,
   "id": "a71879ea-0cd5-4ccb-b4c6-49212833d76a",
   "metadata": {},
   "outputs": [],
   "source": [
    "from random import randint\n",
    "import time"
   ]
  },
  {
   "cell_type": "code",
   "execution_count": 2,
   "id": "97922388-dd8d-4fb4-9d84-077e32bf157a",
   "metadata": {},
   "outputs": [
    {
     "name": "stdout",
     "output_type": "stream",
     "text": [
      "안녕하세요\n",
      "이 게임은 \"숫자맞추기 게임\"으로\n",
      "플레이어는 임의로 정해지는 1~10까지의 숫자를 추측하여 맞추는 게임입니다.\n",
      "대답한 답이 정답이 아니라면, 정답에 대한 작은 힌트가 주어집니다.\n",
      "참고하여 플레이해주시길 바랍니다.\n",
      "그럼 게임을 시작합니다\n"
     ]
    }
   ],
   "source": [
    "print('안녕하세요',end='\\n'), time.sleep(0.8)\n",
    "print('이 게임은 \"숫자맞추기 게임\"으로',end='\\n'), time.sleep(0.8)\n",
    "print('플레이어는 임의로 정해지는 1~10까지의 숫자를 추측하여 맞추는 게임입니다.',end='\\n'), time.sleep(1)\n",
    "print('대답한 답이 정답이 아니라면, 정답에 대한 작은 힌트가 주어집니다.',end='\\n'), time.sleep(1)\n",
    "print('참고하여 플레이해주시길 바랍니다.',end='\\n'), time.sleep(1)\n",
    "print('그럼 게임을 시작합니다',end='\\n')\n",
    "\n"
   ]
  },
  {
   "cell_type": "code",
   "execution_count": 9,
   "id": "a5bd7c8e-0943-48bd-a84a-071d13834e5e",
   "metadata": {},
   "outputs": [
    {
     "name": "stdout",
     "output_type": "stream",
     "text": [
      "------------------------------------------------------------------------------------------------------------------------------------------------------\n",
      "숫자가 지정되었습니다.\n",
      "이 숫자는 무엇일까요?\n"
     ]
    },
    {
     "name": "stdin",
     "output_type": "stream",
     "text": [
      "답을 적어주세요! 5\n"
     ]
    },
    {
     "name": "stdout",
     "output_type": "stream",
     "text": [
      "정답보다 숫자가 큽니다\n"
     ]
    },
    {
     "name": "stdin",
     "output_type": "stream",
     "text": [
      "답을 적어주세요! 4\n"
     ]
    },
    {
     "name": "stdout",
     "output_type": "stream",
     "text": [
      "정답입니다!\n",
      "게임을 계속하시겠어요?\n"
     ]
    },
    {
     "name": "stdin",
     "output_type": "stream",
     "text": [
      "y/n y\n"
     ]
    },
    {
     "name": "stdout",
     "output_type": "stream",
     "text": [
      "게임을 재시작합니다!\n",
      "------------------------------------------------------------------------------------------------------------------------------------------------------\n",
      "숫자가 지정되었습니다.\n",
      "이 숫자는 무엇일까요?\n"
     ]
    },
    {
     "name": "stdin",
     "output_type": "stream",
     "text": [
      "답을 적어주세요! 5\n"
     ]
    },
    {
     "name": "stdout",
     "output_type": "stream",
     "text": [
      "정답보다 숫자가 작습니다\n"
     ]
    },
    {
     "name": "stdin",
     "output_type": "stream",
     "text": [
      "답을 적어주세요! 4\n"
     ]
    },
    {
     "name": "stdout",
     "output_type": "stream",
     "text": [
      "정답보다 숫자가 작습니다\n"
     ]
    },
    {
     "name": "stdin",
     "output_type": "stream",
     "text": [
      "답을 적어주세요! 6\n"
     ]
    },
    {
     "name": "stdout",
     "output_type": "stream",
     "text": [
      "정답보다 숫자가 작습니다\n"
     ]
    },
    {
     "name": "stdin",
     "output_type": "stream",
     "text": [
      "답을 적어주세요! 7\n"
     ]
    },
    {
     "name": "stdout",
     "output_type": "stream",
     "text": [
      "정답보다 숫자가 작습니다\n"
     ]
    },
    {
     "name": "stdin",
     "output_type": "stream",
     "text": [
      "답을 적어주세요! 8\n"
     ]
    },
    {
     "name": "stdout",
     "output_type": "stream",
     "text": [
      "정답보다 숫자가 작습니다\n"
     ]
    },
    {
     "name": "stdin",
     "output_type": "stream",
     "text": [
      "답을 적어주세요! 9\n"
     ]
    },
    {
     "name": "stdout",
     "output_type": "stream",
     "text": [
      "정답보다 숫자가 작습니다\n"
     ]
    },
    {
     "name": "stdin",
     "output_type": "stream",
     "text": [
      "답을 적어주세요! 10\n"
     ]
    },
    {
     "name": "stdout",
     "output_type": "stream",
     "text": [
      "정답입니다!\n",
      "게임을 계속하시겠어요?\n"
     ]
    },
    {
     "name": "stdin",
     "output_type": "stream",
     "text": [
      "y/n hh\n"
     ]
    },
    {
     "name": "stdout",
     "output_type": "stream",
     "text": [
      "잘못된 입력입니다. y 혹은 n 을 작성해주시길 바랍니다.\n"
     ]
    },
    {
     "name": "stdin",
     "output_type": "stream",
     "text": [
      "y/n n\n"
     ]
    },
    {
     "name": "stdout",
     "output_type": "stream",
     "text": [
      "게임을 종료하겠습니다 감사합니다!\n"
     ]
    }
   ],
   "source": [
    "keep_playing = True \n",
    "\n",
    "while keep_playing:\n",
    "    print('-'*150)\n",
    "    answer = randint(1,10) \n",
    "    time.sleep(2)\n",
    "    print('숫자가 지정되었습니다.'),time.sleep(1)\n",
    "    print('이 숫자는 무엇일까요?')\n",
    "    while True:\n",
    "        ans_0 = int(input('답을 적어주세요!'))\n",
    "        if ans_0 == answer: \n",
    "            print('정답입니다!')\n",
    "            break\n",
    "        elif ans_0 > answer:\n",
    "            print('너무 큽니다')       \n",
    "        elif ans_0 < answer:\n",
    "            print('너무 작습니다')\n",
    "    print('게임을 계속하시겠어요?')\n",
    "    while True:\n",
    "        fin = input('y/n')\n",
    "        if fin == 'n':\n",
    "            print('게임을 종료하겠습니다 감사합니다!')\n",
    "            keep_playing = False\n",
    "            break\n",
    "        elif fin == 'y':\n",
    "            print('게임을 재시작합니다!')\n",
    "            break\n",
    "        else:\n",
    "            print('잘못된 입력입니다. y 혹은 n 을 작성해주시길 바랍니다.')\n",
    "\n"
   ]
  },
  {
   "cell_type": "code",
   "execution_count": 5,
   "id": "1ceee692-387b-4b4b-b753-9b0618def6e4",
   "metadata": {},
   "outputs": [
    {
     "data": {
      "text/plain": [
       "'y'"
      ]
     },
     "execution_count": 5,
     "metadata": {},
     "output_type": "execute_result"
    }
   ],
   "source": [
    "fin"
   ]
  },
  {
   "cell_type": "code",
   "execution_count": 8,
   "id": "94d65604-470d-4de6-b92c-28431634b76d",
   "metadata": {},
   "outputs": [
    {
     "name": "stdout",
     "output_type": "stream",
     "text": [
      "------------------------------------------------------------------------------------------------------------------------------------------------------\n"
     ]
    }
   ],
   "source": [
    "print('-'*150)"
   ]
  },
  {
   "cell_type": "code",
   "execution_count": null,
   "id": "7d39e082-f2ad-4c7c-8ca5-03995db79e17",
   "metadata": {},
   "outputs": [],
   "source": []
  },
  {
   "cell_type": "code",
   "execution_count": null,
   "id": "5d4e96df-3976-4459-8cc0-69bc7b12fa0a",
   "metadata": {},
   "outputs": [],
   "source": []
  },
  {
   "cell_type": "code",
   "execution_count": null,
   "id": "475a7ace-c68a-416f-b9df-3bb42e6a0b11",
   "metadata": {},
   "outputs": [],
   "source": []
  },
  {
   "cell_type": "code",
   "execution_count": null,
   "id": "4f245d9b-43ad-48be-9d3e-630ec87d640c",
   "metadata": {},
   "outputs": [],
   "source": []
  },
  {
   "cell_type": "code",
   "execution_count": null,
   "id": "7eeb50d9-2971-4b16-9f90-0b9ad27dca0e",
   "metadata": {},
   "outputs": [],
   "source": []
  },
  {
   "cell_type": "code",
   "execution_count": 74,
   "id": "2d707f6d-9dc5-448d-8c5f-8c20f4c9de93",
   "metadata": {
    "scrolled": true
   },
   "outputs": [
    {
     "name": "stdout",
     "output_type": "stream",
     "text": [
      "3\n",
      "4\n",
      "9\n",
      "8\n",
      "6\n",
      "6\n",
      "2\n",
      "1\n",
      "8\n",
      "1\n",
      "1\n",
      "1\n",
      "6\n",
      "4\n",
      "1\n",
      "7\n",
      "2\n",
      "10\n",
      "9\n",
      "7\n",
      "6\n",
      "10\n",
      "4\n",
      "3\n",
      "6\n",
      "10\n",
      "7\n",
      "9\n",
      "1\n",
      "2\n",
      "7\n",
      "6\n",
      "9\n",
      "10\n",
      "10\n",
      "7\n",
      "10\n",
      "9\n",
      "10\n",
      "5\n",
      "10\n",
      "4\n",
      "3\n",
      "3\n",
      "8\n",
      "8\n",
      "7\n",
      "4\n",
      "9\n",
      "10\n",
      "5\n",
      "2\n",
      "8\n",
      "5\n",
      "6\n",
      "8\n",
      "10\n",
      "6\n",
      "1\n",
      "1\n",
      "3\n",
      "4\n",
      "9\n",
      "4\n",
      "6\n",
      "8\n",
      "1\n",
      "6\n",
      "7\n",
      "1\n",
      "1\n",
      "8\n",
      "6\n",
      "7\n",
      "4\n",
      "5\n",
      "9\n",
      "3\n",
      "2\n",
      "3\n",
      "9\n",
      "6\n",
      "2\n",
      "4\n",
      "1\n",
      "10\n",
      "5\n",
      "3\n",
      "6\n",
      "10\n",
      "7\n",
      "6\n",
      "10\n",
      "4\n",
      "10\n",
      "9\n",
      "3\n",
      "4\n",
      "10\n",
      "1\n"
     ]
    }
   ],
   "source": [
    "for i in range(100):\n",
    "    a = randint(1,10)\n",
    "    print(a)"
   ]
  },
  {
   "cell_type": "code",
   "execution_count": null,
   "id": "ff2ae8b3-56f3-4d09-bf2a-2de4db383178",
   "metadata": {},
   "outputs": [],
   "source": []
  },
  {
   "cell_type": "code",
   "execution_count": null,
   "id": "de0c6261-2746-4f08-bffb-12a138b52e45",
   "metadata": {},
   "outputs": [],
   "source": []
  },
  {
   "cell_type": "code",
   "execution_count": null,
   "id": "96db79c4-5920-47f2-afd8-29ceed3cf7c2",
   "metadata": {},
   "outputs": [],
   "source": []
  },
  {
   "cell_type": "code",
   "execution_count": null,
   "id": "ea0c99aa-6c6f-49cd-8585-2e1bfdd81ff7",
   "metadata": {},
   "outputs": [],
   "source": []
  },
  {
   "cell_type": "code",
   "execution_count": null,
   "id": "e5716ef8-b91c-43ce-943a-ca71ffa8ac16",
   "metadata": {},
   "outputs": [],
   "source": []
  }
 ],
 "metadata": {
  "kernelspec": {
   "display_name": "Python 3 (ipykernel)",
   "language": "python",
   "name": "python3"
  },
  "language_info": {
   "codemirror_mode": {
    "name": "ipython",
    "version": 3
   },
   "file_extension": ".py",
   "mimetype": "text/x-python",
   "name": "python",
   "nbconvert_exporter": "python",
   "pygments_lexer": "ipython3",
   "version": "3.10.6"
  }
 },
 "nbformat": 4,
 "nbformat_minor": 5
}
